{
 "cells": [
  {
   "cell_type": "code",
   "execution_count": 1,
   "metadata": {},
   "outputs": [
    {
     "name": "stderr",
     "output_type": "stream",
     "text": [
      "[nltk_data] Downloading package stopwords to /root/nltk_data...\n",
      "[nltk_data]   Package stopwords is already up-to-date!\n"
     ]
    }
   ],
   "source": [
    "import sys, os\n",
    "import pandas as pd\n",
    "from sklearn.model_selection import train_test_split\n",
    "\n",
    "import torch\n",
    "import torch.nn as nn\n",
    "import torch.optim as optim\n",
    "from torch.utils.data import DataLoader\n",
    "import torch.nn.functional as F\n",
    "\n",
    "sys.path.insert(0, os.path.join(os.pardir,os.pardir))\n",
    "from src.Preprocessing import preprocessing_dataframe\n",
    "from src.Tokenizer import MyTokenizer\n",
    "from src.DataLoader import DataLoaderBert\n",
    "from src.Callback import EarlyStopping\n",
    "\n",
    "device = torch.device(\"cuda\" if torch.cuda.is_available() else \"cpu\")\n",
    "NUM_LABELS = 5\n",
    "RANDOM_SEED = 23\n",
    "\n",
    "DATA_PATH = os.path.join(os.pardir,os.pardir, os.path.join(\"data\", \"datos.xlsx\"))\n",
    "VOCAB_PATH = os.path.join(os.pardir,os.pardir,\"vocab_file.txt\")"
   ]
  },
  {
   "cell_type": "code",
   "execution_count": null,
   "metadata": {},
   "outputs": [],
   "source": [
    "df = pd.read_excel(DATA_PATH)\n",
    "column_name_rev = df.columns.to_list()[len(df.columns.to_list())-1]\n",
    "columns_to_keep = df.columns.to_list()[:2]\n",
    "\n",
    "df_revisado = df[df[column_name_rev] == 'Revisado'][columns_to_keep]\n",
    "df_revisado_eq = preprocessing_dataframe(df_revisado,False)\n",
    "df_revisado.shape, df_revisado_eq.shape"
   ]
  },
  {
   "cell_type": "code",
   "execution_count": null,
   "metadata": {},
   "outputs": [],
   "source": [
    "df_train , df_test = train_test_split(df_revisado_eq, test_size=0.3, random_state = RANDOM_SEED)\n",
    "df_val , df_test = train_test_split(df_test, test_size=0.5, random_state = RANDOM_SEED)\n",
    "len(df_train), len(df_val), len(df_test)"
   ]
  },
  {
   "cell_type": "code",
   "execution_count": 2,
   "metadata": {},
   "outputs": [],
   "source": [
    "tokenizer = MyTokenizer(VOCAB_PATH)\n",
    "BATCH_SIZE = 1\n",
    "MAX_LEN = 512\n",
    "\n",
    "dataset_train_torch = DataLoaderBert(df_train['Review'].to_list(), df_train['Score_G'].to_list(),tokenizer, MAX_LEN)\n",
    "train_dataloader = DataLoader(dataset_train_torch, batch_size=BATCH_SIZE, shuffle=True)\n",
    "\n",
    "dataset_val_torch = DataLoaderBert(df_val['Review'].to_list(), df_val['Score_G'].to_list(),tokenizer, MAX_LEN)\n",
    "val_dataloader = DataLoader(dataset_val_torch, batch_size=BATCH_SIZE, shuffle=True)"
   ]
  },
  {
   "cell_type": "code",
   "execution_count": 3,
   "metadata": {},
   "outputs": [],
   "source": [
    "class RNN_GRU(nn.Module):\n",
    "    def __init__(self, input_size, hidden_size, num_layers, num_labels, bidirectional=True, dropout=0.1):\n",
    "        super().__init__()\n",
    "\n",
    "        self.hidden_size = hidden_size\n",
    "        self.num_layers = num_layers\n",
    "\n",
    "        #Bidirectional sirve para evitar el vanish gradient problem\n",
    "        self.D = 2 if bidirectional else 1\n",
    "        self.gru = nn.GRU(input_size, hidden_size, num_layers, batch_first=True, dropout=dropout, bidirectional=bidirectional)\n",
    "\n",
    "        self.dropout = nn.Dropout(dropout)\n",
    "        self.dropout2 = nn.Dropout(dropout)\n",
    "        n = self.D*self.hidden_size\n",
    "        n2 = n // 2\n",
    "        self.linear = nn.Linear(n,n2)\n",
    "        self.last_layer = nn.Linear(n2,num_labels)\n",
    "\n",
    "    def forward(self, input):\n",
    "        #[batch_size, input_size] -> [batch_size, seq_len, input_size] where seq_len = 1\n",
    "        x = input.unsqueeze(1) \n",
    "\n",
    "        #[D*num_layers, batch_size, hidden_size]\n",
    "        h0 = torch.zeros(self.D*self.num_layers, x.size(0), self.hidden_size).to(x.device)\n",
    "\n",
    "        #x debe ser: (batch_size, seq, input_size)\n",
    "        output, h_n = self.gru(x, h0) #[batch_size, seq_len, D*hidden_size]\n",
    "\n",
    "        output = output[:, -1, :]\n",
    "        output = self.dropout(output)\n",
    "        output = self.linear(output)\n",
    "        output = self.dropout2(output)\n",
    "        output = self.last_layer(output)\n",
    "        return output\n"
   ]
  },
  {
   "cell_type": "code",
   "execution_count": 4,
   "metadata": {},
   "outputs": [],
   "source": [
    "def model_train(model, data, loss_fn, optimizer, n_examples, device):\n",
    "  model.train()\n",
    "  running_loss_train = 0.0\n",
    "  correct_pred = 0\n",
    "\n",
    "  for d in data:\n",
    "    inputs_ids = d[\"input_ids\"].float().to(device)\n",
    "    #attention_mask = d[\"attention_mask\"].to(device)\n",
    "    targets = d[\"targets\"].to(device)\n",
    "    \n",
    "    optimizer.zero_grad()\n",
    "\n",
    "    output_model = model(inputs_ids)\n",
    "    \n",
    "    loss = loss_fn(output_model,targets)\n",
    "      \n",
    "    loss.backward()\n",
    "    optimizer.step()\n",
    "\n",
    "    running_loss_train += loss.item()\n",
    "\n",
    "    preds = torch.argmax(output_model, dim = 1)\n",
    "    correct_pred += torch.sum(preds == targets).cpu() \n",
    "      \n",
    "  return running_loss_train/len(data), correct_pred/ n_examples"
   ]
  },
  {
   "cell_type": "code",
   "execution_count": 5,
   "metadata": {},
   "outputs": [],
   "source": [
    "def model_eval(model, data, loss_fn, n_examples, device):\n",
    "  model.eval()\n",
    "  running_loss_val = 0.0\n",
    "  correct_pred = 0\n",
    "  lista_dif = []  \n",
    "    \n",
    "  with torch.no_grad():\n",
    "    for d in data:\n",
    "      inputs_ids = d[\"input_ids\"].float().to(device)\n",
    "      #attention_mask = d[\"attention_mask\"].to(device)\n",
    "      targets = d[\"targets\"].to(device)\n",
    "\n",
    "      output_model = model(inputs_ids)\n",
    "\n",
    "      loss = loss_fn(output_model,targets)\n",
    "      running_loss_val += loss.item()\n",
    "\n",
    "      preds = torch.argmax(output_model, dim = 1)\n",
    "      correct_pred += torch.sum(preds == targets).cpu()\n",
    "\n",
    "        \n",
    "      num_dif = torch.abs(targets - preds).tolist()\n",
    "        \n",
    "      output_model = F.softmax(output_model,dim=1)\n",
    "      out_targ = output_model[torch.arange(targets.size(0)), targets]\n",
    "      out_preds = output_model[torch.arange(preds.size(0)), preds]\n",
    "      prob_dif = torch.abs(out_targ - out_preds).tolist()\n",
    "        \n",
    "      lista_dif += [val for val in zip(num_dif, prob_dif)]\n",
    "\n",
    "  return running_loss_val / len(data), correct_pred/n_examples, lista_dif"
   ]
  },
  {
   "cell_type": "code",
   "execution_count": 6,
   "metadata": {},
   "outputs": [
    {
     "name": "stdout",
     "output_type": "stream",
     "text": [
      "Num epoch: 1, Train_loss: 1.6017548978026654\n",
      "Num epoch: 2, Train_loss: 1.566065762712209\n",
      "Num epoch: 3, Train_loss: 1.5523774811310005\n",
      "Num epoch: 4, Train_loss: 1.5449700911135018\n",
      "Num epoch: 5, Train_loss: 1.5322025632192087\n",
      "Num epoch: 6, Train_loss: 1.5138796118511777\n",
      "Num epoch: 7, Train_loss: 1.485172179484056\n",
      "Num epoch: 8, Train_loss: 1.4624442958433523\n",
      "Num epoch: 9, Train_loss: 1.4285466046766577\n",
      "Num epoch: 10, Train_loss: 1.3830302465281106\n",
      "Num epoch: 11, Train_loss: 1.3598115794363548\n",
      "------------------------------\n"
     ]
    },
    {
     "data": {
      "text/plain": [
       "{'Train_loss': 1.3598115794363548,\n",
       " 'Train_acc': 0.40596845746040344,\n",
       " 'Val_loss': 1.5214033169789358,\n",
       " 'Val_acc': 0.31081080436706543}"
      ]
     },
     "execution_count": 6,
     "metadata": {},
     "output_type": "execute_result"
    }
   ],
   "source": [
    "HIDDEN_SIZE = 128\n",
    "NUM_LAYERS = 2\n",
    "\n",
    "model = RNN_GRU(input_size=MAX_LEN, hidden_size=HIDDEN_SIZE,num_layers=NUM_LAYERS, num_labels=NUM_LABELS).to(device)\n",
    "\n",
    "loss_fn = nn.CrossEntropyLoss().to(device)\n",
    "optimizer = optim.Adam(model.parameters(),lr=0.001)\n",
    "train_loss, train_acc, val_loss, val_acc = [], [], [], []\n",
    "best_acc = 0\n",
    "best_hist = []\n",
    "early_stopping = EarlyStopping()\n",
    "\n",
    "num_epochs = 1000\n",
    "for epoch in range(num_epochs): \n",
    "    train_loss_epoch, train_acc_epoch = model_train(model, train_dataloader, loss_fn, optimizer, len(df_train), device)\n",
    "    train_loss.append(train_loss_epoch)\n",
    "    train_acc.append(train_acc_epoch)\n",
    "\n",
    "    val_loss_epoch, val_acc_epoch, hist_acc = model_eval(model, val_dataloader, loss_fn, len(df_val), device)\n",
    "    val_loss.append(val_loss_epoch)\n",
    "    val_acc.append(val_acc_epoch)\n",
    "\n",
    "    print(f\"Num epoch: {epoch+1}, Train_loss: {train_loss_epoch}\")\n",
    "    \n",
    "    if best_acc < val_acc_epoch:\n",
    "        best_acc = val_acc_epoch\n",
    "        best_hist = hist_acc\n",
    "        \n",
    "    if early_stopping(val_loss_epoch, model):\n",
    "        break\n",
    "\n",
    "print(\"-\"*30)\n",
    "res_model = {\n",
    "    'Train_loss': sorted(train_loss)[0],\n",
    "    'Train_acc': sorted(train_acc, reverse=True)[0].item(),\n",
    "    'Val_loss': sorted(val_loss)[0],\n",
    "    'Val_acc': sorted(val_acc, reverse=True)[0].item()\n",
    "}\n",
    "res_model"
   ]
  },
  {
   "cell_type": "code",
   "execution_count": null,
   "metadata": {},
   "outputs": [],
   "source": []
  }
 ],
 "metadata": {
  "kernelspec": {
   "display_name": "Python 3 (ipykernel)",
   "language": "python",
   "name": "python3"
  },
  "language_info": {
   "codemirror_mode": {
    "name": "ipython",
    "version": 3
   },
   "file_extension": ".py",
   "mimetype": "text/x-python",
   "name": "python",
   "nbconvert_exporter": "python",
   "pygments_lexer": "ipython3",
   "version": "3.11.9"
  }
 },
 "nbformat": 4,
 "nbformat_minor": 4
}
